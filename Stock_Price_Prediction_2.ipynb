{
  "nbformat": 4,
  "nbformat_minor": 0,
  "metadata": {
    "colab": {
      "provenance": [],
      "authorship_tag": "ABX9TyPFqWXgiJMfISA9UQ3piwYS",
      "include_colab_link": true
    },
    "kernelspec": {
      "name": "python3",
      "display_name": "Python 3"
    },
    "language_info": {
      "name": "python"
    }
  },
  "cells": [
    {
      "cell_type": "markdown",
      "metadata": {
        "id": "view-in-github",
        "colab_type": "text"
      },
      "source": [
        "<a href=\"https://colab.research.google.com/github/sakuna47/Stock_Price_Prediction-/blob/Backend/Stock_Price_Prediction_2.ipynb\" target=\"_parent\"><img src=\"https://colab.research.google.com/assets/colab-badge.svg\" alt=\"Open In Colab\"/></a>"
      ]
    },
    {
      "cell_type": "code",
      "execution_count": null,
      "metadata": {
        "id": "IcdcfCKqXloD"
      },
      "outputs": [],
      "source": [
        "# Enhanced Stock Price Prediction Model\n",
        "import pandas as pd\n",
        "import numpy as np\n",
        "import yfinance as yf\n",
        "from sklearn.model_selection import TimeSeriesSplit\n",
        "from sklearn.preprocessing import RobustScaler, StandardScaler\n",
        "from sklearn.ensemble import RandomForestRegressor, GradientBoostingRegressor\n",
        "from sklearn.linear_model import Ridge\n",
        "from sklearn.metrics import mean_squared_error, r2_score, mean_absolute_error\n",
        "import matplotlib.pyplot as plt\n",
        "import warnings\n",
        "warnings.filterwarnings('ignore')"
      ]
    },
    {
      "cell_type": "code",
      "source": [
        "\n",
        "# =============================================================================\n",
        "# CONFIGURATION\n",
        "# =============================================================================\n",
        "TICKER = \"AAPL\"  # Change this to any ticker you want\n",
        "START_DATE = \"2015-01-01\"\n",
        "END_DATE = \"2025-06-25\"\n",
        "PREDICTION_DAYS_AHEAD = 7  # How many days ahead to predict (1=next day, 5=next week, etc.)\n",
        "# =============================================================================\n",
        "\n",
        "\n",
        "class EnhancedStockPredictionModel:\n",
        "    def __init__(self, ticker=TICKER, start_date=START_DATE, end_date=END_DATE, prediction_horizon=PREDICTION_DAYS_AHEAD):\n",
        "        self.ticker = ticker\n",
        "        self.start_date = start_date\n",
        "        self.end_date = end_date\n",
        "        self.prediction_horizon = prediction_horizon\n",
        "        self.data = None\n",
        "        self.model = None\n",
        "        self.scaler = None\n",
        "        self.feature_names = None\n",
        "        self.target_scaler = None  # Add target scaling\n",
        "\n",
        "\n",
        "    def download_data(self):\n",
        "        \"\"\"Download stock data with proper error handling\"\"\"\n",
        "        print(f\"Downloading {self.ticker} data from {self.start_date} to {self.end_date}\")\n",
        "        try:\n",
        "            self.data = yf.download(self.ticker, start=self.start_date, end=self.end_date, progress=False)\n",
        "            if self.data.empty:\n",
        "                return False\n",
        "\n",
        "            # Handle MultiIndex columns\n",
        "            if isinstance(self.data.columns, pd.MultiIndex):\n",
        "                self.data.columns = self.data.columns.get_level_values(0)\n",
        "\n",
        "            # Remove duplicates\n",
        "            self.data = self.data.loc[:, ~self.data.columns.duplicated()]\n",
        "\n",
        "            print(f\"Data shape: {self.data.shape}\")\n",
        "            print(f\"Date range: {self.data.index[0]} to {self.data.index[-1]}\")\n",
        "            return True\n",
        "        except Exception as e:\n",
        "            print(f\"Error downloading data: {e}\")\n",
        "            return False\n"
      ],
      "metadata": {
        "id": "ShT5AhaUZcYL"
      },
      "execution_count": null,
      "outputs": []
    }
  ]
}