{
  "nbformat": 4,
  "nbformat_minor": 0,
  "metadata": {
    "colab": {
      "provenance": [],
      "authorship_tag": "ABX9TyPeIukzcgvL5cqAXvLxXCh9",
      "include_colab_link": true
    },
    "kernelspec": {
      "name": "python3",
      "display_name": "Python 3"
    },
    "language_info": {
      "name": "python"
    }
  },
  "cells": [
    {
      "cell_type": "markdown",
      "metadata": {
        "id": "view-in-github",
        "colab_type": "text"
      },
      "source": [
        "<a href=\"https://colab.research.google.com/github/sakuna47/Stock_Price_Prediction-/blob/Frontend/SPP_Frontend_py.ipynb\" target=\"_parent\"><img src=\"https://colab.research.google.com/assets/colab-badge.svg\" alt=\"Open In Colab\"/></a>"
      ]
    },
    {
      "cell_type": "code",
      "execution_count": null,
      "metadata": {
        "id": "m5je8JKjIw-V"
      },
      "outputs": [],
      "source": [
        "import streamlit as st\n",
        "import pickle\n",
        "import numpy as np\n",
        "import yfinance as yf\n",
        "\n",
        "# Load the model and scaler\n",
        "with open(\"stock_model.pkl\", \"rb\") as f:\n",
        "    model = pickle.load(f)\n",
        "\n",
        "with open(\"scaler.pkl\", \"rb\") as f:\n",
        "    scaler = pickle.load(f)\n",
        "\n",
        "# Streamlit app\n",
        "st.title(\"Stock Price Prediction Web App\")\n",
        "\n",
        "# Input field for stock ticker\n",
        "ticker = st.text_input(\"Enter Stock Ticker (e.g., AAPL):\")\n",
        "\n",
        "# Predict button\n",
        "if st.button(\"Predict\"):\n",
        "    if ticker:\n",
        "        # Download historical stock data\n",
        "        data = yf.download(ticker, start=\"2010-01-01\", end=\"2023-01-01\")\n",
        "        if not data.empty:\n",
        "            # Preprocess the data\n",
        "            data = data.fillna(method=\"ffill\")\n",
        "            X = data.drop([\"Close\"], axis=1)\n",
        "            X_scaled = scaler.transform(X)\n",
        "            # Make prediction\n",
        "            prediction = model.predict(X_scaled)\n",
        "            st.success(f\"Predicted Closing Price: {prediction[-1]:.2f}\")\n",
        "        else:\n",
        "            st.error(\"Invalid stock ticker or no data available.\")\n",
        "    else:\n",
        "        st.warning(\"Please enter a stock ticker.\")\n"
      ]
    }
  ]
}