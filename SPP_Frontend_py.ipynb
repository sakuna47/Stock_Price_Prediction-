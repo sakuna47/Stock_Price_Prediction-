{
  "nbformat": 4,
  "nbformat_minor": 0,
  "metadata": {
    "colab": {
      "provenance": [],
      "authorship_tag": "ABX9TyPZ7vVkZ9XrYLG65+wtN+TZ",
      "include_colab_link": true
    },
    "kernelspec": {
      "name": "python3",
      "display_name": "Python 3"
    },
    "language_info": {
      "name": "python"
    }
  },
  "cells": [
    {
      "cell_type": "markdown",
      "metadata": {
        "id": "view-in-github",
        "colab_type": "text"
      },
      "source": [
        "<a href=\"https://colab.research.google.com/github/sakuna47/Stock_Price_Prediction-/blob/Frontend/SPP_Frontend_py.ipynb\" target=\"_parent\"><img src=\"https://colab.research.google.com/assets/colab-badge.svg\" alt=\"Open In Colab\"/></a>"
      ]
    },
    {
      "cell_type": "code",
      "execution_count": null,
      "metadata": {
        "id": "m5je8JKjIw-V"
      },
      "outputs": [],
      "source": [
        "import streamlit as st\n",
        "import pickle\n",
        "import numpy as np\n",
        "import yfinance as yf\n",
        "import pandas as pd\n",
        "\n",
        "# Load the model and scaler\n",
        "with open(\"stock_model.pkl\", \"rb\") as f:\n",
        "    model = pickle.load(f)\n",
        "\n",
        "with open(\"scaler.pkl\", \"rb\") as f:\n",
        "    scaler = pickle.load(f)\n",
        "\n",
        "# Streamlit app\n",
        "st.title(\"Stock Price Prediction Web App\")\n",
        "\n",
        "# Input field for stock ticker\n",
        "ticker = st.text_input(\"Enter Stock Ticker (e.g., AAPL):\")\n",
        "\n",
        "# Predict button\n",
        "if st.button(\"Predict\"):\n",
        "    if ticker:\n",
        "        try:\n",
        "            # Download historical stock data\n",
        "            data = yf.download(ticker, start=\"2010-01-01\", end=\"2025-02-15\")\n",
        "\n",
        "            if not data.empty:\n",
        "                # Print column names for debugging\n",
        "                #st.write(\"Downloaded Data Columns:\", list(data.columns))\n",
        "\n",
        "                # Fill missing values\n",
        "                data = data.fillna(method=\"ffill\")\n",
        "\n",
        "                # Expected features in the dataset\n",
        "                expected_features = [\"Open\", \"High\", \"Low\", \"Volume\"]\n",
        "\n",
        "                # Get available features\n",
        "                available_features = [col for col in expected_features if col in data.columns]\n",
        "\n",
        "                # Check if we have all required features\n",
        "                if len(available_features) < len(expected_features):\n",
        "                    missing_features = list(set(expected_features) - set(available_features))\n",
        "                    st.error(f\"Missing features: {missing_features}. Cannot make predictions.\")\n",
        "                else:\n",
        "                    # Select available features\n",
        "                    X = data[available_features]\n",
        "\n",
        "                    # Scale the features\n",
        "                    X_scaled = scaler.transform(X)\n",
        "\n",
        "                    # Make prediction for the next day's closing price\n",
        "                    prediction = model.predict(X_scaled)\n",
        "\n",
        "                    st.success(f\"Predicted Next Closing Price: ${prediction[-1]:.2f}\")\n",
        "            else:\n",
        "                st.error(\"Invalid stock ticker or no data available.\")\n",
        "\n",
        "        except Exception as e:\n",
        "            st.error(f\"An error occurred: {str(e)}\")\n",
        "\n",
        "    else:\n",
        "        st.warning(\"Please enter a stock ticker.\")\n"
      ]
    }
  ]
}